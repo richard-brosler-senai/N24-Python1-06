{
 "cells": [
  {
   "cell_type": "markdown",
   "metadata": {},
   "source": [
    "# Exceções no Python (tratamento de erros)"
   ]
  },
  {
   "cell_type": "code",
   "execution_count": 11,
   "metadata": {},
   "outputs": [
    {
     "name": "stdout",
     "output_type": "stream",
     "text": [
      "Passei por aqui\n",
      "Fim do programa\n"
     ]
    }
   ],
   "source": [
    "# Para tratar um erro de execução \n",
    "# utilizamos o try\n",
    "try:\n",
    "    idade = int(input(\"Digite sua idade:\"))\n",
    "    print(idade / 0) # Erro de divisão por zero\n",
    "except ValueError as e: # Tratando erro de conversão\n",
    "    print(\"Você digitou um valor inválido!\", e)\n",
    "except ZeroDivisionError: # Tratando erro de divisão por zero\n",
    "    print(\"Erro de divisão por zero\")\n",
    "except(ArithmeticError, TypeError): # Multiplos erros\n",
    "    pass # completar código para não dar erro em um bloco, mas não tem efeito\n",
    "finally: ### Sempre será executado independentemente de erro\n",
    "    print(\"Passei por aqui\")\n",
    "print(\"Fim do programa\")"
   ]
  }
 ],
 "metadata": {
  "kernelspec": {
   "display_name": "Python 3",
   "language": "python",
   "name": "python3"
  },
  "language_info": {
   "codemirror_mode": {
    "name": "ipython",
    "version": 3
   },
   "file_extension": ".py",
   "mimetype": "text/x-python",
   "name": "python",
   "nbconvert_exporter": "python",
   "pygments_lexer": "ipython3",
   "version": "3.12.6"
  }
 },
 "nbformat": 4,
 "nbformat_minor": 2
}
