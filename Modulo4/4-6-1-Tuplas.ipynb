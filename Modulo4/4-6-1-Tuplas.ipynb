{
 "cells": [
  {
   "cell_type": "markdown",
   "metadata": {},
   "source": [
    "# Tuplas\n",
    "São também um conjunto assim como as listas, porém, somente leitura."
   ]
  },
  {
   "cell_type": "code",
   "execution_count": 1,
   "metadata": {},
   "outputs": [
    {
     "name": "stdout",
     "output_type": "stream",
     "text": [
      "3\n"
     ]
    },
    {
     "ename": "TypeError",
     "evalue": "'tuple' object does not support item assignment",
     "output_type": "error",
     "traceback": [
      "\u001b[1;31m---------------------------------------------------------------------------\u001b[0m",
      "\u001b[1;31mTypeError\u001b[0m                                 Traceback (most recent call last)",
      "Cell \u001b[1;32mIn[1], line 5\u001b[0m\n\u001b[0;32m      3\u001b[0m \u001b[38;5;66;03m# Imprimindo o segundo elemento da tupla\u001b[39;00m\n\u001b[0;32m      4\u001b[0m \u001b[38;5;28mprint\u001b[39m(tupla1[\u001b[38;5;241m2\u001b[39m])\n\u001b[1;32m----> 5\u001b[0m \u001b[43mtupla1\u001b[49m\u001b[43m[\u001b[49m\u001b[38;5;241;43m2\u001b[39;49m\u001b[43m]\u001b[49m \u001b[38;5;241m=\u001b[39m \u001b[38;5;241m10\u001b[39m \u001b[38;5;66;03m# Erro!!\u001b[39;00m\n",
      "\u001b[1;31mTypeError\u001b[0m: 'tuple' object does not support item assignment"
     ]
    }
   ],
   "source": [
    "tupla1 = (1,2,3,4) # isso é uma tupla\n",
    "tupla2 = 1,2,3,4   # menos comum, mas é uma tupla também\n",
    "# Imprimindo o segundo elemento da tupla\n",
    "print(tupla1[2])\n",
    "tupla1[2] = 10 # Erro!!\n"
   ]
  },
  {
   "cell_type": "code",
   "execution_count": 6,
   "metadata": {},
   "outputs": [
    {
     "name": "stdout",
     "output_type": "stream",
     "text": [
      "(3, 4)\n",
      "(3, 4, 3, 5)\n",
      "(3, 4, 3, 5, 1)\n",
      "(3, 4, 3, 5, 1, 3, 4, 3, 5, 1)\n"
     ]
    }
   ],
   "source": [
    "# Fatiamento de tuplas\n",
    "tupla = (1,2,3,4,5)\n",
    "print(tupla[2:4])\n",
    "tupla = tupla[2:4] + (3,5)\n",
    "print(tupla)\n",
    "tupla = tupla + (1,)\n",
    "print(tupla)\n",
    "tupla = tupla * 2 # replica a tupla 2x como na string\n",
    "print(tupla)"
   ]
  },
  {
   "cell_type": "markdown",
   "metadata": {},
   "source": [
    "### Dicionários\n",
    "Conjunto, porém, a estruturação dele é baseada em chave : valor"
   ]
  },
  {
   "cell_type": "code",
   "execution_count": 8,
   "metadata": {},
   "outputs": [
    {
     "name": "stdout",
     "output_type": "stream",
     "text": [
      "{'valor1': 123, 'valor2': 'abc', 'valor3': True, 'valor5': (1, 2, 3)}\n",
      "{'valor1': 123, 'valor3': True, 'valor5': (1, 2, 3)}\n"
     ]
    }
   ],
   "source": [
    "dicio = {\"valor1\": 123, \"valor2\": \"abc\", \"valor3\": True }\n",
    "dicio[\"valor5\"] = (1,2,3)\n",
    "print(dicio)\n",
    "del dicio[\"valor2\"]\n",
    "print(dicio)"
   ]
  },
  {
   "cell_type": "code",
   "execution_count": 12,
   "metadata": {},
   "outputs": [
    {
     "name": "stdout",
     "output_type": "stream",
     "text": [
      "valor1 => 123\n",
      "valor3 => True\n",
      "valor5 => (1, 2, 3)\n"
     ]
    }
   ],
   "source": [
    "for it in dicio.keys(): # Indico que quero as chaves\n",
    "  print(it,\"=>\",dicio[it]) # listando as chaves"
   ]
  },
  {
   "cell_type": "code",
   "execution_count": 11,
   "metadata": {},
   "outputs": [
    {
     "name": "stdout",
     "output_type": "stream",
     "text": [
      "123\n",
      "True\n",
      "(1, 2, 3)\n"
     ]
    }
   ],
   "source": [
    "for it in dicio.values():\n",
    "  print(it) # Listando os valores"
   ]
  },
  {
   "cell_type": "code",
   "execution_count": 13,
   "metadata": {},
   "outputs": [
    {
     "name": "stdout",
     "output_type": "stream",
     "text": [
      "valor1 => 123\n",
      "valor3 => True\n",
      "valor5 => (1, 2, 3)\n"
     ]
    }
   ],
   "source": [
    "for ch, vl in dicio.items():\n",
    "  print(ch,\"=>\",vl)"
   ]
  }
 ],
 "metadata": {
  "kernelspec": {
   "display_name": "Python 3",
   "language": "python",
   "name": "python3"
  },
  "language_info": {
   "codemirror_mode": {
    "name": "ipython",
    "version": 3
   },
   "file_extension": ".py",
   "mimetype": "text/x-python",
   "name": "python",
   "nbconvert_exporter": "python",
   "pygments_lexer": "ipython3",
   "version": "3.12.6"
  }
 },
 "nbformat": 4,
 "nbformat_minor": 2
}
