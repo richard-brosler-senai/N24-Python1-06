{
 "cells": [
  {
   "cell_type": "markdown",
   "metadata": {},
   "source": [
    "# Print\n",
    "Nesse tópico vamos trabalhar o comando print"
   ]
  },
  {
   "cell_type": "code",
   "execution_count": 3,
   "metadata": {},
   "outputs": [
    {
     "name": "stdout",
     "output_type": "stream",
     "text": [
      "Olá mundo\n"
     ]
    }
   ],
   "source": [
    "print(\"Olá mundo\")"
   ]
  },
  {
   "cell_type": "markdown",
   "metadata": {},
   "source": [
    "### Parâmetros do print\n",
    "Os argumentos passados são ilimitados, ou posso não passar\n",
    "argumentos."
   ]
  },
  {
   "cell_type": "code",
   "execution_count": 5,
   "metadata": {},
   "outputs": [
    {
     "name": "stdout",
     "output_type": "stream",
     "text": [
      "olá mundo! Meu nome é Richard\n",
      "\n",
      "linha 3\n"
     ]
    }
   ],
   "source": [
    "# Passando vários argumentos\n",
    "print(\"olá\",\"mundo!\",\"Meu\",\"nome\",\"é\",\"Richard\")\n",
    "# Chamando o print sem parâmetros\n",
    "print()\n",
    "# Chamando o print com 1 parâmetro\n",
    "print(\"linha 3\")\n"
   ]
  },
  {
   "cell_type": "markdown",
   "metadata": {},
   "source": [
    "### Parâmetros nomeados\n",
    "O print também possui parâmetros que afetam diretamente\n",
    "o comportamento do print, e eles podem ser modificados\n",
    "utilizando palavras chaves como o end=, sep=."
   ]
  },
  {
   "cell_type": "code",
   "execution_count": 11,
   "metadata": {},
   "outputs": [
    {
     "name": "stdout",
     "output_type": "stream",
     "text": [
      "Olá-MundoNome pessoa,endereço da pessoa\n",
      "texto de exemplo**texto--"
     ]
    }
   ],
   "source": [
    "print(\"Olá\",\"Mundo\",sep=\"-\",end=\"\")\n",
    "print(\"Nome pessoa\",\"endereço da pessoa\",sep=\",\")\n",
    "print(\"texto de exemplo\",\"texto\",\n",
    "          end=\"--\",sep=\"**\")"
   ]
  },
  {
   "cell_type": "markdown",
   "metadata": {},
   "source": [
    "### Utilizando o escape (\\\\)\n",
    "Vamos conhecer um pouco do escape no python. \n",
    "O caracter \\ tem um papel especial no python."
   ]
  },
  {
   "cell_type": "code",
   "execution_count": 12,
   "metadata": {},
   "outputs": [
    {
     "name": "stdout",
     "output_type": "stream",
     "text": [
      "A aranha\n",
      " subiu a queda de água\n",
      " e caiu\n",
      "Veio a correnteza\n",
      " e levou\n"
     ]
    }
   ],
   "source": [
    "print(\"A aranha\\n subiu a queda de água\\n e caiu\")\n",
    "print(\"Veio a correnteza\\n e levou\")"
   ]
  },
  {
   "cell_type": "code",
   "execution_count": 16,
   "metadata": {},
   "outputs": [
    {
     "name": "stdout",
     "output_type": "stream",
     "text": [
      "Para imprimir o caracter \\\n",
      "Imprimindo o \"\n",
      "usando o tab \t1234567\t456\n",
      "A Ana disse:\"Feliz Natal\"\n"
     ]
    }
   ],
   "source": [
    "# Imprimindo o caracter \\\n",
    "print(\"Para imprimir o caracter \\\\\")\n",
    "print(\"Imprimindo o \\\"\")\n",
    "print(\"usando o tab \\t1234567\\t456\")\n",
    "print(\"A Ana disse:\\\"Feliz Natal\\\"\")"
   ]
  }
 ],
 "metadata": {
  "kernelspec": {
   "display_name": "Python 3",
   "language": "python",
   "name": "python3"
  },
  "language_info": {
   "codemirror_mode": {
    "name": "ipython",
    "version": 3
   },
   "file_extension": ".py",
   "mimetype": "text/x-python",
   "name": "python",
   "nbconvert_exporter": "python",
   "pygments_lexer": "ipython3",
   "version": "3.12.6"
  }
 },
 "nbformat": 4,
 "nbformat_minor": 2
}
