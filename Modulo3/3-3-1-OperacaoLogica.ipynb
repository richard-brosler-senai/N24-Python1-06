{
 "cells": [
  {
   "cell_type": "markdown",
   "metadata": {},
   "source": [
    "# Operações lógicas\n",
    "### operador and\n",
    "| a | b | operador and | resultado |\n",
    "| - | - | ------------ | --------- |\n",
    "| True | True | True and True | True |\n",
    "| True | False | True and False | False |\n",
    "| False | True | False and True | False |\n",
    "| False | False | False and False | False |"
   ]
  },
  {
   "cell_type": "code",
   "execution_count": 20,
   "metadata": {},
   "outputs": [
    {
     "name": "stdout",
     "output_type": "stream",
     "text": [
      "True\n"
     ]
    }
   ],
   "source": [
    "idade = 19\n",
    "teste = idade >= 18 and idade <= 60\n",
    "print(teste)"
   ]
  },
  {
   "cell_type": "markdown",
   "metadata": {},
   "source": [
    "### operador or\n",
    "| a | b | operador or | resultado |\n",
    "| - | - | ------------ | --------- |\n",
    "| True | True | True or True | True |\n",
    "| True | False | True or False | True |\n",
    "| False | True | False or True | True |\n",
    "| False | False | False or False | False |"
   ]
  },
  {
   "cell_type": "code",
   "execution_count": 21,
   "metadata": {},
   "outputs": [
    {
     "name": "stdout",
     "output_type": "stream",
     "text": [
      "Você é maior de idade!\n"
     ]
    }
   ],
   "source": [
    "idade = 17\n",
    "emancipado = True\n",
    "if idade>= 18 or emancipado:\n",
    "    print(\"Você é maior de idade!\")\n"
   ]
  },
  {
   "cell_type": "markdown",
   "metadata": {},
   "source": [
    "### operador not (unário)\n",
    "| a | operação not | resultado |\n",
    "| - | ------------ | --------- |\n",
    "| True | not True | False |\n",
    "| False | not False | True |"
   ]
  },
  {
   "cell_type": "code",
   "execution_count": 22,
   "metadata": {},
   "outputs": [
    {
     "name": "stdout",
     "output_type": "stream",
     "text": [
      "False\n",
      "True\n",
      "False\n",
      "True\n",
      "False\n"
     ]
    }
   ],
   "source": [
    "print(not True)\n",
    "print(not False)\n",
    "print(not 1)\n",
    "print(not 0)\n",
    "print(not 2)"
   ]
  },
  {
   "cell_type": "code",
   "execution_count": 23,
   "metadata": {},
   "outputs": [
    {
     "name": "stdout",
     "output_type": "stream",
     "text": [
      "tem valor\n",
      "fim\n"
     ]
    }
   ],
   "source": [
    "valor = -1\n",
    "if valor:\n",
    "  print(\"tem valor\")\n",
    "print(\"fim\")"
   ]
  },
  {
   "cell_type": "markdown",
   "metadata": {},
   "source": [
    "### operador bit-a-bit & (and)\n",
    "```\n",
    "5 & 3 => 1\n",
    "0101 = 5\n",
    "0011 = 3\n",
    "------- &\n",
    "0001 = 1\n",
    "```"
   ]
  },
  {
   "cell_type": "code",
   "execution_count": 24,
   "metadata": {},
   "outputs": [
    {
     "name": "stdout",
     "output_type": "stream",
     "text": [
      "0101\n",
      "0011\n",
      "1\n"
     ]
    }
   ],
   "source": [
    "print(f\"{5:04b}\")\n",
    "print(f\"{3:04b}\")\n",
    "print(5 & 3)"
   ]
  },
  {
   "cell_type": "markdown",
   "metadata": {},
   "source": [
    "### Operador bit-a-bit | (or)\n",
    "```\n",
    "5 | 3 = 7\n",
    "0101 = 5\n",
    "0011 = 3\n",
    "------ |\n",
    "0111 = 7\n",
    "```"
   ]
  },
  {
   "cell_type": "code",
   "execution_count": 25,
   "metadata": {},
   "outputs": [
    {
     "name": "stdout",
     "output_type": "stream",
     "text": [
      "0101\n",
      "0011\n",
      "7\n"
     ]
    }
   ],
   "source": [
    "print(f\"{5:04b}\")\n",
    "print(f\"{3:04b}\")\n",
    "print(5 | 3)"
   ]
  },
  {
   "cell_type": "markdown",
   "metadata": {},
   "source": [
    "### operador bit-a-bit ^ (or exclusivo ou xor)\n",
    "```\n",
    "5 ^ 3 = 6\n",
    "0101 = 5\n",
    "0011 = 3\n",
    "------ ^\n",
    "0110 = 6\n",
    "```"
   ]
  },
  {
   "cell_type": "code",
   "execution_count": 26,
   "metadata": {},
   "outputs": [
    {
     "name": "stdout",
     "output_type": "stream",
     "text": [
      "0101\n",
      "0011\n",
      "6\n"
     ]
    }
   ],
   "source": [
    "print(f\"{5:04b}\")\n",
    "print(f\"{3:04b}\")\n",
    "print(5 ^ 3)"
   ]
  },
  {
   "cell_type": "markdown",
   "metadata": {},
   "source": [
    "### operador bit-a-bit ~ (complemento - unário)\n",
    "```\n",
    "~ 1 = -2\n",
    "~ 10 = -11\n",
    "```"
   ]
  },
  {
   "cell_type": "code",
   "execution_count": 27,
   "metadata": {},
   "outputs": [
    {
     "name": "stdout",
     "output_type": "stream",
     "text": [
      "-2\n",
      "-11\n"
     ]
    }
   ],
   "source": [
    "print(~1)\n",
    "print(~10)"
   ]
  },
  {
   "cell_type": "markdown",
   "metadata": {},
   "source": [
    "### Deslocamento de bits\n",
    "#### Deslocamento para esquerda (<<)"
   ]
  },
  {
   "cell_type": "code",
   "execution_count": 1,
   "metadata": {},
   "outputs": [
    {
     "name": "stdout",
     "output_type": "stream",
     "text": [
      "8 1000\n"
     ]
    }
   ],
   "source": [
    "valor = 1 << 3\n",
    "print(valor, f\"{valor:04b}\")"
   ]
  },
  {
   "cell_type": "markdown",
   "metadata": {},
   "source": [
    "#### Deslocamento para direita (>>)"
   ]
  },
  {
   "cell_type": "code",
   "execution_count": 4,
   "metadata": {},
   "outputs": [
    {
     "name": "stdout",
     "output_type": "stream",
     "text": [
      "0101 2 0010 Desloca para direita\n",
      "0101 20 10100 Desloca para esquerda\n"
     ]
    }
   ],
   "source": [
    "valor = 5 >> 1\n",
    "print(f\"{5:04b}\",valor,f\"{valor:04b}\",\"Desloca para direita\")\n",
    "valor = 5 << 2\n",
    "print(f\"{5:04b}\",valor,f\"{valor:04b}\",\"Desloca para esquerda\")"
   ]
  }
 ],
 "metadata": {
  "kernelspec": {
   "display_name": "Python 3",
   "language": "python",
   "name": "python3"
  },
  "language_info": {
   "codemirror_mode": {
    "name": "ipython",
    "version": 3
   },
   "file_extension": ".py",
   "mimetype": "text/x-python",
   "name": "python",
   "nbconvert_exporter": "python",
   "pygments_lexer": "ipython3",
   "version": "3.12.6"
  }
 },
 "nbformat": 4,
 "nbformat_minor": 2
}
