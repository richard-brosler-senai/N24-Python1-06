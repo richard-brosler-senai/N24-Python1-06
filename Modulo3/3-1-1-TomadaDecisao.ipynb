{
 "cells": [
  {
   "cell_type": "markdown",
   "metadata": {},
   "source": [
    "# Tomadas de decisão\n",
    "### Operador de igualdade\n",
    "O operador de igualdade no python é o =="
   ]
  },
  {
   "cell_type": "code",
   "execution_count": 3,
   "metadata": {},
   "outputs": [
    {
     "name": "stdout",
     "output_type": "stream",
     "text": [
      "True\n",
      "True\n",
      "False\n"
     ]
    }
   ],
   "source": [
    "print(2 == 2) # Comparando 2 valores\n",
    "print(2 == 2.)\n",
    "print(1 == 2)"
   ]
  },
  {
   "cell_type": "markdown",
   "metadata": {},
   "source": [
    "### Operador de desigualdade\n",
    "Para essa operação utilizaremos o operador !="
   ]
  },
  {
   "cell_type": "code",
   "execution_count": 4,
   "metadata": {},
   "outputs": [
    {
     "name": "stdout",
     "output_type": "stream",
     "text": [
      "False\n",
      "True\n"
     ]
    }
   ],
   "source": [
    "print( 2 != 2)\n",
    "print( 1 != 2)"
   ]
  },
  {
   "cell_type": "markdown",
   "metadata": {},
   "source": [
    "### Operador maior que (>) e maior igual a (>=)"
   ]
  },
  {
   "cell_type": "code",
   "execution_count": 5,
   "metadata": {},
   "outputs": [
    {
     "name": "stdout",
     "output_type": "stream",
     "text": [
      "False\n",
      "True\n"
     ]
    }
   ],
   "source": [
    "print(1 > 2)\n",
    "print( 2 >= 1)"
   ]
  },
  {
   "cell_type": "markdown",
   "metadata": {},
   "source": [
    "### Operador menor que (<) e menor igual a (<=)"
   ]
  },
  {
   "cell_type": "code",
   "execution_count": 6,
   "metadata": {},
   "outputs": [
    {
     "name": "stdout",
     "output_type": "stream",
     "text": [
      "True\n",
      "False\n"
     ]
    }
   ],
   "source": [
    "print(1 < 2)\n",
    "print(2 <= 1)"
   ]
  },
  {
   "cell_type": "markdown",
   "metadata": {},
   "source": [
    "### Atualizando a tabela de prioridades python\n",
    "1. **\n",
    "2. Unários (+,-)\n",
    "3. \\* / // %\n",
    "4. \\+ e -\n",
    "5. \\> >= < <=\n",
    "6. == !="
   ]
  },
  {
   "cell_type": "code",
   "execution_count": 7,
   "metadata": {},
   "outputs": [
    {
     "name": "stdout",
     "output_type": "stream",
     "text": [
      "True\n"
     ]
    }
   ],
   "source": [
    "# Exemplo de uso de variáveis com relacionais\n",
    "teste = 15 > 10 + 2\n",
    "print(teste)"
   ]
  },
  {
   "cell_type": "markdown",
   "metadata": {},
   "source": [
    "### Condicional IF\n",
    "```python\n",
    "if condicao_true_false: # Verdade\n",
    "    comando1()\n",
    "    comando2()\n",
    "    ... \n",
    "    comandoN()\n",
    "comando_fora_if()\n",
    "```"
   ]
  },
  {
   "cell_type": "code",
   "execution_count": 9,
   "metadata": {},
   "outputs": [
    {
     "name": "stdout",
     "output_type": "stream",
     "text": [
      "Pode dirigir!\n",
      "Mas, precisa tirar a carta\n",
      "Fora do if\n"
     ]
    }
   ],
   "source": [
    "idade = 19\n",
    "if idade >= 18: #se for maior ou igual a 18\n",
    "    print(\"Pode dirigir!\")\n",
    "    print(\"Mas, precisa tirar a carta\")\n",
    "\n",
    "print(\"Fora do if\")"
   ]
  },
  {
   "cell_type": "markdown",
   "metadata": {},
   "source": [
    "### else"
   ]
  },
  {
   "cell_type": "code",
   "execution_count": 13,
   "metadata": {},
   "outputs": [
    {
     "name": "stdout",
     "output_type": "stream",
     "text": [
      "Você é menor de idade\n",
      "Não pode dirigir\n",
      "Fora do if\n"
     ]
    }
   ],
   "source": [
    "idade = int(input(\"Digite sua idade: \"))\n",
    "if idade >= 18: #se for maior ou igual a 18\n",
    "    print(\"Pode dirigir!\")\n",
    "    print(\"Mas, precisa tirar a carta\")\n",
    "else:\n",
    "    print(\"Você é menor de idade\")\n",
    "    print(\"Não pode dirigir\")\n",
    "\n",
    "print(\"Fora do if\")"
   ]
  },
  {
   "cell_type": "code",
   "execution_count": 15,
   "metadata": {},
   "outputs": [
    {
     "name": "stdout",
     "output_type": "stream",
     "text": [
      "Pode dirigir!\n",
      "Mas, precisa tirar a carta\n",
      "Muito cuidado!\n",
      "Vá ao médico com regularidade!\n",
      "Fora do if\n"
     ]
    }
   ],
   "source": [
    "idade = int(input(\"Digite sua idade: \"))\n",
    "if idade >= 18: #se for maior ou igual a 18\n",
    "    print(\"Pode dirigir!\")\n",
    "    print(\"Mas, precisa tirar a carta\")\n",
    "    if idade >= 50: # if encadeado\n",
    "        print(\"Muito cuidado!\")\n",
    "        print(\"Vá ao médico com regularidade!\")\n",
    "    else:\n",
    "        print(\"Aproveite sua idade\")\n",
    "        print(\"Ela passa muito rápido!\")\n",
    "else:\n",
    "    print(\"Você é menor de idade\")\n",
    "    print(\"Não pode dirigir\")\n",
    "\n",
    "print(\"Fora do if\")"
   ]
  },
  {
   "cell_type": "markdown",
   "metadata": {},
   "source": [
    "### elif"
   ]
  },
  {
   "cell_type": "code",
   "execution_count": 17,
   "metadata": {},
   "outputs": [
    {
     "name": "stdout",
     "output_type": "stream",
     "text": [
      "Olha, melhor parar de dirigir\n",
      "Pode ser perigoso!\n",
      "Fora do if\n"
     ]
    }
   ],
   "source": [
    "idade = int(input(\"Digite sua idade: \"))\n",
    "if idade>= 80:\n",
    "    print(\"Olha, melhor parar de dirigir\")\n",
    "    print(\"Pode ser perigoso!\")\n",
    "elif idade >= 50:\n",
    "    print(\"Muito cuidado!\")\n",
    "    print(\"Vá ao médico com regularidade!\")\n",
    "elif idade >= 18: #se for maior ou igual a 18\n",
    "    print(\"Pode dirigir!\")\n",
    "    print(\"Mas, precisa tirar a carta\")\n",
    "else:\n",
    "    print(\"Você é menor de idade\")\n",
    "    print(\"Não pode dirigir\")\n",
    "\n",
    "print(\"Fora do if\")"
   ]
  },
  {
   "cell_type": "code",
   "execution_count": 18,
   "metadata": {},
   "outputs": [
    {
     "name": "stdout",
     "output_type": "stream",
     "text": [
      "Você pode dirigir\n"
     ]
    }
   ],
   "source": [
    "idade = int(input(\"Digite sua idade: \"))\n",
    "# Com 1 comando, podemos colocar na mesma linha \n",
    "if idade >= 80: print(\"Cuidado ao dirigir\")\n",
    "elif idade>= 18: print(\"Você pode dirigir\")\n",
    "else: print(\"Você é menor de idade!\")"
   ]
  },
  {
   "cell_type": "code",
   "execution_count": 21,
   "metadata": {},
   "outputs": [
    {
     "name": "stdout",
     "output_type": "stream",
     "text": [
      "num1 é maior que num2\n"
     ]
    }
   ],
   "source": [
    "num1 = int(input(\"Digite um valor: \"))\n",
    "num2 = int(input(\"Digite um valor: \"))\n",
    "# Mostrar o maior valor\n",
    "if num1 > num2:\n",
    "    print(\"num1 é maior que num2\")\n",
    "elif num2 > num1:\n",
    "    print(\"num2 é maior que num1\")\n",
    "else:\n",
    "    print(\"São iguais\")"
   ]
  },
  {
   "cell_type": "code",
   "execution_count": 22,
   "metadata": {},
   "outputs": [
    {
     "name": "stdout",
     "output_type": "stream",
     "text": [
      "Maior valor é 9\n"
     ]
    }
   ],
   "source": [
    "# Imprimir o maior valor em 3 entradas de usuário\n",
    "maior = -9_999_999_999 # linha 2\n",
    "num1 = int(input(\"Digite o valor: \")) # linha 3\n",
    "if num1 > maior: # linha 4\n",
    "    maior = num1 # linha 5\n",
    "# se num1 for diferente de zero vai para linha 3\n",
    "print (maior)\n",
    "\n",
    "num1 = int(input(\"Digite o 2o valor: \"))\n",
    "if num1 > maior:\n",
    "    maior = num1\n",
    "\n",
    "num1 = int(input(\"Digite o 3o valor: \"))\n",
    "if num1 > maior:\n",
    "    maior = num1\n",
    "\n",
    "print(\"Maior valor é\", maior)"
   ]
  },
  {
   "cell_type": "code",
   "execution_count": 27,
   "metadata": {},
   "outputs": [
    {
     "name": "stdout",
     "output_type": "stream",
     "text": [
      "Nom1 é maior\n"
     ]
    }
   ],
   "source": [
    "nom1 = \"Richard a\"\n",
    "nom2 = \"RicharD\"\n",
    "if nom1 > nom2: print(\"Nom1 é maior\")\n",
    "else: print(\"Nom2 é maior ou igual a nom1\")"
   ]
  },
  {
   "cell_type": "code",
   "execution_count": 32,
   "metadata": {},
   "outputs": [
    {
     "name": "stdout",
     "output_type": "stream",
     "text": [
      "Não dentro do período do calendário gregoriano\n"
     ]
    }
   ],
   "source": [
    "year = int(input(\"Digite um ano: \"))\n",
    "\n",
    "if year < 1582:\n",
    "  print(\"Não dentro do período do calendário gregoriano\")\n",
    "else:\n",
    "  # Escreve o bloco se-então aqui\n",
    "  if year % 4 != 0:\n",
    "      print(\"Ano Comum\")\n",
    "  elif year % 100 != 0:\n",
    "      print(\"Ano Bissexto\")\n",
    "  elif year % 400 != 0:\n",
    "      print(\"Ano Comum\")\n",
    "  else:\n",
    "      print(\"Ano Bissexto\")"
   ]
  },
  {
   "cell_type": "code",
   "execution_count": 33,
   "metadata": {},
   "outputs": [
    {
     "name": "stdout",
     "output_type": "stream",
     "text": [
      "3 1\n"
     ]
    }
   ],
   "source": [
    "a, c = 1, 3\n",
    "c, a = a, c\n",
    "print(a,c)"
   ]
  }
 ],
 "metadata": {
  "kernelspec": {
   "display_name": "Python 3",
   "language": "python",
   "name": "python3"
  },
  "language_info": {
   "codemirror_mode": {
    "name": "ipython",
    "version": 3
   },
   "file_extension": ".py",
   "mimetype": "text/x-python",
   "name": "python",
   "nbconvert_exporter": "python",
   "pygments_lexer": "ipython3",
   "version": "3.12.6"
  }
 },
 "nbformat": 4,
 "nbformat_minor": 2
}
