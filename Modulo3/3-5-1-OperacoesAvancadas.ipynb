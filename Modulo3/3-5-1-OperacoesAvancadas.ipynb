{
 "cells": [
  {
   "cell_type": "markdown",
   "metadata": {},
   "source": [
    "# Operações Avançadas com lista\n",
    "### Fatiamento de listas"
   ]
  },
  {
   "cell_type": "code",
   "execution_count": 6,
   "metadata": {},
   "outputs": [
    {
     "name": "stdout",
     "output_type": "stream",
     "text": [
      "[2, 3]\n",
      "[1, 2, 3]\n",
      "[2, 3, 4]\n",
      "[2, 3]\n",
      "[2, 3]\n",
      "[1, 2, 3, 4]\n"
     ]
    }
   ],
   "source": [
    "lista = [1,2,3,4]\n",
    "print(lista[1:3]) # 1 até 2\n",
    "print(lista[:3]) # 0 até 2\n",
    "print(lista[1:]) # 1 até o final\n",
    "print(lista[1:-1]) # 1 até .... o penúltimo\n",
    "print(lista[-3:-1])\n",
    "print(lista[:]) "
   ]
  },
  {
   "cell_type": "code",
   "execution_count": 10,
   "metadata": {},
   "outputs": [
    {
     "name": "stdout",
     "output_type": "stream",
     "text": [
      "[1, 2, 3, 4] 1845268465536\n",
      "[1, 2, 3, 4, 'a55'] 1845268331392\n"
     ]
    }
   ],
   "source": [
    "lista1 = [1,2,3,4]\n",
    "lista2 = lista1[:]\n",
    "lista2.append(\"a55\")\n",
    "print(lista1,id(lista1))\n",
    "print(lista2,id(lista2))"
   ]
  },
  {
   "cell_type": "markdown",
   "metadata": {},
   "source": [
    "### operador in e not in"
   ]
  },
  {
   "cell_type": "code",
   "execution_count": 14,
   "metadata": {},
   "outputs": [
    {
     "name": "stdout",
     "output_type": "stream",
     "text": [
      "Uva está na lista\n",
      "Tomate não está na lista\n"
     ]
    }
   ],
   "source": [
    "lista = ['maça','banana','uva','laranja']\n",
    "if 'uva' in lista:\n",
    "    print('Uva está na lista')\n",
    "else:\n",
    "    print('Uva não está na lista')\n",
    "\n",
    "if 'tomate' not in lista:\n",
    "    print('Tomate não está na lista')\n",
    "else:\n",
    "    print('Tomate está na lista')"
   ]
  },
  {
   "cell_type": "code",
   "execution_count": 15,
   "metadata": {},
   "outputs": [
    {
     "name": "stdout",
     "output_type": "stream",
     "text": [
      "A lista com os elementos exclusivos aqui\n",
      "[1, 2, 4, 6, 9]\n"
     ]
    }
   ],
   "source": [
    "my_list = [1, 2, 4, 4, 1, 4, 2, 6, 2, 9]\n",
    "#\n",
    "# Escreva seu código aqui.\n",
    "#\n",
    "lista = []\n",
    "for item in my_list:\n",
    "    if item not in lista:\n",
    "        lista.append(item)\n",
    "my_list = lista\n",
    "print(\"A lista com os elementos exclusivos aqui\")\n",
    "print(my_list)\n"
   ]
  }
 ],
 "metadata": {
  "kernelspec": {
   "display_name": "Python 3",
   "language": "python",
   "name": "python3"
  },
  "language_info": {
   "codemirror_mode": {
    "name": "ipython",
    "version": 3
   },
   "file_extension": ".py",
   "mimetype": "text/x-python",
   "name": "python",
   "nbconvert_exporter": "python",
   "pygments_lexer": "ipython3",
   "version": "3.12.6"
  }
 },
 "nbformat": 4,
 "nbformat_minor": 2
}
