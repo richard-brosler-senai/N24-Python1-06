{
 "cells": [
  {
   "cell_type": "markdown",
   "metadata": {},
   "source": [
    "# Aplicações avançadas com Listas\n",
    "### Listas de Listas"
   ]
  },
  {
   "cell_type": "code",
   "execution_count": 4,
   "metadata": {},
   "outputs": [
    {
     "name": "stdout",
     "output_type": "stream",
     "text": [
      "5\n",
      "9\n",
      "1 5 9\n"
     ]
    }
   ],
   "source": [
    "lista = [\n",
    "          [1,2,3],\n",
    "          [4,5,6],\n",
    "          [7,8,9]\n",
    "        ]\n",
    "# Acessando o valor 5\n",
    "print(lista[1][1])\n",
    "# Acessando o valor 9\n",
    "print(lista[2][2])\n",
    "# Imprimindo a diagonal principal\n",
    "print(lista[0][0],lista[1][1],lista[2][2])"
   ]
  },
  {
   "cell_type": "code",
   "execution_count": 7,
   "metadata": {},
   "outputs": [
    {
     "name": "stdout",
     "output_type": "stream",
     "text": [
      "[[1, 2, 3], [4, 5, 6], [7, 8, 9]]\n"
     ]
    }
   ],
   "source": [
    "# Montando uma matriz de 1 a 9 com 2 dimensões (3x3)\n",
    "lista = []\n",
    "for lin in range(1,4):\n",
    "    lista_interna = []\n",
    "    for col in range(1,4):\n",
    "        lista_interna.append((lin-1)*3+col)\n",
    "    lista.append(lista_interna) # Adiciono à lista\n",
    "\n",
    "print(lista)"
   ]
  },
  {
   "cell_type": "markdown",
   "metadata": {},
   "source": [
    "### Lista de compreensão (list comprehension)\n"
   ]
  },
  {
   "cell_type": "code",
   "execution_count": 10,
   "metadata": {},
   "outputs": [
    {
     "name": "stdout",
     "output_type": "stream",
     "text": [
      "[1, 2, 3, 4, 5]\n",
      "['Z', 'Z', 'Z', 'Z', 'Z']\n"
     ]
    }
   ],
   "source": [
    "# Montando a lista lista = [1,2,3,4,5]\n",
    "lista = [ i for i in range(1,6) ]\n",
    "print(lista)\n",
    "lista = [ 'Z' for i in range(5) ]\n",
    "print(lista)"
   ]
  },
  {
   "cell_type": "code",
   "execution_count": 12,
   "metadata": {},
   "outputs": [
    {
     "name": "stdout",
     "output_type": "stream",
     "text": [
      "[[1, 2, 3], [4, 5, 6], [7, 8, 9]]\n"
     ]
    }
   ],
   "source": [
    "lista = [[(lin-1)*3+col for col in range(1,4)] for lin in range(1,4)]\n",
    "print(lista)"
   ]
  }
 ],
 "metadata": {
  "kernelspec": {
   "display_name": "Python 3",
   "language": "python",
   "name": "python3"
  },
  "language_info": {
   "codemirror_mode": {
    "name": "ipython",
    "version": 3
   },
   "file_extension": ".py",
   "mimetype": "text/x-python",
   "name": "python",
   "nbconvert_exporter": "python",
   "pygments_lexer": "ipython3",
   "version": "3.12.6"
  }
 },
 "nbformat": 4,
 "nbformat_minor": 2
}
