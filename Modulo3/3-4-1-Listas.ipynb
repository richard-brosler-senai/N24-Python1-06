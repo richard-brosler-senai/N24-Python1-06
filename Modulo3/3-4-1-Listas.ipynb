{
 "cells": [
  {
   "cell_type": "markdown",
   "metadata": {},
   "source": [
    "# Listas\n",
    "Para criar uma lista em Python, podemos fazer como no\n",
    "exemplo abaixo:\n",
    "```python\n",
    "lista = [1,2,3,4] # Uma lista com 4 elementos inteiros\n",
    "```"
   ]
  },
  {
   "cell_type": "code",
   "execution_count": 3,
   "metadata": {},
   "outputs": [
    {
     "name": "stdout",
     "output_type": "stream",
     "text": [
      "[1, 2, 3, 4]\n",
      "3\n",
      "[1, 5, 3, 4]\n"
     ]
    }
   ],
   "source": [
    "lista = [1,2,3,4]\n",
    "print(lista)\n",
    "print(lista[2])\n",
    "# Modificando o 2o elemento da lista\n",
    "lista[1] = 5\n",
    "print(lista)"
   ]
  },
  {
   "cell_type": "code",
   "execution_count": 6,
   "metadata": {},
   "outputs": [
    {
     "name": "stdout",
     "output_type": "stream",
     "text": [
      "4\n",
      "6\n",
      "B\n"
     ]
    }
   ],
   "source": [
    "lista = [1,2,3,4]\n",
    "print(len(lista)) # mostra o tamanho da lista\n",
    "texto = \"ABCDEF\"\n",
    "print(len(texto))\n",
    "print(texto[1])"
   ]
  },
  {
   "cell_type": "markdown",
   "metadata": {},
   "source": [
    "### Eliminando elementos de uma lista\n",
    "Para eliminar um elemento de uma lista usaremos\n",
    "o comando `del`"
   ]
  },
  {
   "cell_type": "code",
   "execution_count": 8,
   "metadata": {},
   "outputs": [
    {
     "name": "stdout",
     "output_type": "stream",
     "text": [
      "[1, 3, 4]\n"
     ]
    },
    {
     "ename": "NameError",
     "evalue": "name 'lista' is not defined",
     "output_type": "error",
     "traceback": [
      "\u001b[1;31m---------------------------------------------------------------------------\u001b[0m",
      "\u001b[1;31mNameError\u001b[0m                                 Traceback (most recent call last)",
      "Cell \u001b[1;32mIn[8], line 5\u001b[0m\n\u001b[0;32m      3\u001b[0m \u001b[38;5;28mprint\u001b[39m(lista)\n\u001b[0;32m      4\u001b[0m \u001b[38;5;28;01mdel\u001b[39;00m lista\n\u001b[1;32m----> 5\u001b[0m \u001b[38;5;28mprint\u001b[39m(\u001b[43mlista\u001b[49m)\n",
      "\u001b[1;31mNameError\u001b[0m: name 'lista' is not defined"
     ]
    }
   ],
   "source": [
    "lista = [1,2,3,4]\n",
    "del lista[1] # Eliminando o 2º elemento\n",
    "print(lista)\n",
    "del lista\n",
    "print(lista)"
   ]
  },
  {
   "cell_type": "code",
   "execution_count": 11,
   "metadata": {},
   "outputs": [
    {
     "name": "stdout",
     "output_type": "stream",
     "text": [
      "2\n"
     ]
    }
   ],
   "source": [
    "lista = [1,2,3,4]\n",
    "print(lista[-3])"
   ]
  },
  {
   "cell_type": "markdown",
   "metadata": {},
   "source": [
    "### Funções e Métodos\n",
    "Função : len(conjunto)\n",
    "Método : lista.append(valor)"
   ]
  },
  {
   "cell_type": "code",
   "execution_count": 32,
   "metadata": {},
   "outputs": [
    {
     "name": "stdout",
     "output_type": "stream",
     "text": [
      "5\n",
      "2\n",
      "['__add__', '__class__', '__class_getitem__', '__contains__', '__delattr__', '__delitem__', '__dir__', '__doc__', '__eq__', '__format__', '__ge__', '__getattribute__', '__getitem__', '__getstate__', '__gt__', '__hash__', '__iadd__', '__imul__', '__init__', '__init_subclass__', '__iter__', '__le__', '__len__', '__lt__', '__mul__', '__ne__', '__new__', '__reduce__', '__reduce_ex__', '__repr__', '__reversed__', '__rmul__', '__setattr__', '__setitem__', '__sizeof__', '__str__', '__subclasshook__', 'append', 'clear', 'copy', 'count', 'extend', 'index', 'insert', 'pop', 'remove', 'reverse', 'sort']\n"
     ]
    }
   ],
   "source": [
    "lista = [1,2,3,2,4]\n",
    "print(len(lista))\n",
    "print(lista.count(2)) # Método da lista\n",
    "print(dir(lista)) # Mostra todos os métodos de uma lista"
   ]
  },
  {
   "cell_type": "markdown",
   "metadata": {},
   "source": [
    "### Métodos append e insert em uma lista\n",
    "Método append adiciona um elemento no final da lista\n",
    "Método insert adiciona um elemento em uma posição\n",
    "indicada no primeiro parâmetro.\n",
    "```\n",
    "lista.append(valor)\n",
    "lista.insert(posicao,valor)\n",
    "```"
   ]
  },
  {
   "cell_type": "code",
   "execution_count": 18,
   "metadata": {},
   "outputs": [
    {
     "name": "stdout",
     "output_type": "stream",
     "text": [
      "[1, 2, 3, 4, 5]\n"
     ]
    }
   ],
   "source": [
    "lista = []\n",
    "for i in range(1,6):\n",
    "    lista.append(i)\n",
    "\n",
    "print(lista)"
   ]
  },
  {
   "cell_type": "code",
   "execution_count": 19,
   "metadata": {},
   "outputs": [
    {
     "name": "stdout",
     "output_type": "stream",
     "text": [
      "[5, 4, 3, 2, 1]\n"
     ]
    }
   ],
   "source": [
    "lista = []\n",
    "for i in range(1,6):\n",
    "    lista.insert(0,i)\n",
    "\n",
    "print(lista)"
   ]
  },
  {
   "cell_type": "code",
   "execution_count": 20,
   "metadata": {},
   "outputs": [
    {
     "name": "stdout",
     "output_type": "stream",
     "text": [
      "1,2,3,4,5,"
     ]
    }
   ],
   "source": [
    "lista = [1,2,3,4,5]\n",
    "for i in range(len(lista)):\n",
    "    print(lista[i],end=\",\")"
   ]
  },
  {
   "cell_type": "code",
   "execution_count": 24,
   "metadata": {},
   "outputs": [
    {
     "name": "stdout",
     "output_type": "stream",
     "text": [
      "1,Abelha,3,4,5,\n",
      "N-o-m-e-P-e-s-s-o-a-"
     ]
    }
   ],
   "source": [
    "lista = [1,\"Abelha\",3,4,5]\n",
    "for elemento in lista:\n",
    "    print(elemento,end=\",\")\n",
    "print()\n",
    "texto = \"NomePessoa\"\n",
    "for letra in texto:\n",
    "    print(letra,end=\"-\")"
   ]
  },
  {
   "cell_type": "code",
   "execution_count": 28,
   "metadata": {},
   "outputs": [
    {
     "name": "stdout",
     "output_type": "stream",
     "text": [
      "1 5\n",
      "140728848222648 140728848222776\n"
     ]
    }
   ],
   "source": [
    "a, b = 1, 2\n",
    "b = a\n",
    "b = 5\n",
    "print(a, b)\n",
    "print(id(a),id(b))"
   ]
  },
  {
   "cell_type": "code",
   "execution_count": 29,
   "metadata": {},
   "outputs": [
    {
     "name": "stdout",
     "output_type": "stream",
     "text": [
      "[1, 2, 3, 4, 5]\n",
      "2160681138176 2160681138176\n",
      "[1, 2, 3, 4, 5]\n"
     ]
    }
   ],
   "source": [
    "lista1 = [1,2,3,4]\n",
    "lista2 = lista1\n",
    "lista2.append(5)\n",
    "print(lista1)\n",
    "print(id(lista1), id(lista2)) # mostra o endereço memória\n",
    "del lista1\n",
    "print(lista2)"
   ]
  },
  {
   "cell_type": "code",
   "execution_count": 33,
   "metadata": {},
   "outputs": [
    {
     "name": "stdout",
     "output_type": "stream",
     "text": [
      "[9, 5, 1, 2, 3]\n"
     ]
    }
   ],
   "source": [
    "lista = [ 3,5,1,2,9 ]\n",
    "lista[0], lista[-1] = lista[-1], lista[0]\n",
    "print(lista)"
   ]
  },
  {
   "cell_type": "code",
   "execution_count": 35,
   "metadata": {},
   "outputs": [
    {
     "name": "stdout",
     "output_type": "stream",
     "text": [
      "[9, 2, 1, 5, 3]\n",
      "[3, 5, 1, 2, 9]\n"
     ]
    }
   ],
   "source": [
    "lista = [ 3,5,1,2,9 ]\n",
    "# Fazendo a permuta de valores\n",
    "for i in range(len(lista)//2):\n",
    "    lista[i],lista[-(i+1)] = lista[-(i+1)], lista[i]\n",
    "\n",
    "print(lista) \n",
    "lista.reverse()\n",
    "print(lista)"
   ]
  },
  {
   "cell_type": "code",
   "execution_count": 37,
   "metadata": {},
   "outputs": [
    {
     "name": "stdout",
     "output_type": "stream",
     "text": [
      "[2, 3, 4, 6, 8, 10]\n"
     ]
    }
   ],
   "source": [
    "lista = [8,6,2,3,10,4]\n",
    "# Vamos ordenar isso... Bubblesort\n",
    "trocou = True\n",
    "while trocou:\n",
    "    trocou = False\n",
    "    for i in range(len(lista)-1):\n",
    "        if lista[i] > lista[i+1]:\n",
    "            lista[i], lista[i+1] = lista[i+1], lista[i]\n",
    "            trocou = True\n",
    "\n",
    "print(lista)"
   ]
  },
  {
   "cell_type": "code",
   "execution_count": 39,
   "metadata": {},
   "outputs": [
    {
     "name": "stdout",
     "output_type": "stream",
     "text": [
      "[2, 3, 4, 6, 8, 10]\n",
      "[10, 8, 6, 4, 3, 2]\n"
     ]
    }
   ],
   "source": [
    "lista = [8,6,2,3,10,4]\n",
    "lista.sort() # Ordena itens na lista\n",
    "print(lista)\n",
    "lista.reverse()\n",
    "print(lista)"
   ]
  }
 ],
 "metadata": {
  "kernelspec": {
   "display_name": "Python 3",
   "language": "python",
   "name": "python3"
  },
  "language_info": {
   "codemirror_mode": {
    "name": "ipython",
    "version": 3
   },
   "file_extension": ".py",
   "mimetype": "text/x-python",
   "name": "python",
   "nbconvert_exporter": "python",
   "pygments_lexer": "ipython3",
   "version": "3.12.6"
  }
 },
 "nbformat": 4,
 "nbformat_minor": 2
}
