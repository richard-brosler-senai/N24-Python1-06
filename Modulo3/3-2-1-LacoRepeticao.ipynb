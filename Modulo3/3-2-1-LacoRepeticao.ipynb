{
 "cells": [
  {
   "cell_type": "markdown",
   "metadata": {},
   "source": [
    "# Laços de repetição\n",
    "### Laço while\n",
    "```\n",
    "while condicao: # enquanto verdade executa\n",
    "    comando1()\n",
    "    comando2()\n",
    "    ...\n",
    "    comandon()\n",
    "\n",
    "fora_while()\n",
    "```"
   ]
  },
  {
   "cell_type": "code",
   "execution_count": 2,
   "metadata": {},
   "outputs": [
    {
     "name": "stdout",
     "output_type": "stream",
     "text": [
      "Testando laço infinito!!\n"
     ]
    }
   ],
   "source": [
    "while True: # Laço infinito\n",
    "    print(\"Testando laço infinito!!\")\n",
    "    break # força a quebra do laço"
   ]
  },
  {
   "cell_type": "code",
   "execution_count": 4,
   "metadata": {},
   "outputs": [
    {
     "name": "stdout",
     "output_type": "stream",
     "text": [
      "Você tem que digitar uma idade entre 18 e 60 anos!\n",
      "Fim do programa\n"
     ]
    }
   ],
   "source": [
    "# Exemplo de uso do while com condição\n",
    "idade = -1\n",
    "# enquanto a idade for menor 18 ou maior que 60 fica no \n",
    "# laço\n",
    "while idade<18 or idade>60:\n",
    "  idade = int(input(\"Digite uma idade entre 18 e 60 anos: \"))\n",
    "  if idade<18 or idade>60:\n",
    "    print(\"Você tem que digitar uma idade entre 18 e 60 anos!\")\n",
    "print(\"Fim do programa\")"
   ]
  },
  {
   "cell_type": "code",
   "execution_count": 5,
   "metadata": {},
   "outputs": [
    {
     "name": "stdout",
     "output_type": "stream",
     "text": [
      "O maior número foi 9\n"
     ]
    }
   ],
   "source": [
    "# Fazer um programa para solicitar números\n",
    "# e informar no final qual é o maior\n",
    "# condição de término é número = 0\n",
    "maior = -9_999_999_999_999\n",
    "numero = -1\n",
    "while numero != 0:\n",
    "    numero = int(input(\"Digite um numero (0-FIM): \"))\n",
    "    if numero != 0:\n",
    "        if numero > maior:\n",
    "            maior = numero\n",
    "            \n",
    "print(\"O maior número foi\", maior)"
   ]
  },
  {
   "cell_type": "code",
   "execution_count": 6,
   "metadata": {},
   "outputs": [
    {
     "name": "stdout",
     "output_type": "stream",
     "text": [
      "0\n",
      "1\n",
      "2\n",
      "3\n",
      "4\n",
      "Fim do programa\n"
     ]
    }
   ],
   "source": [
    "# While como contador\n",
    "contador = 0\n",
    "while contador < 5:\n",
    "    print(contador)\n",
    "    contador += 1 # contador = contador + 1\n",
    "print(\"Fim do programa\")"
   ]
  },
  {
   "cell_type": "markdown",
   "metadata": {},
   "source": [
    "### Laço for\n",
    "```python\n",
    "for contador in range(5):\n",
    "    print(contador)\n",
    "print(\"Fim do programa\")\n",
    "```"
   ]
  },
  {
   "cell_type": "code",
   "execution_count": 7,
   "metadata": {},
   "outputs": [
    {
     "name": "stdout",
     "output_type": "stream",
     "text": [
      "0\n",
      "1\n",
      "2\n",
      "3\n",
      "4\n",
      "Fim do programa\n"
     ]
    }
   ],
   "source": [
    "for contador in range(5):\n",
    "    print(contador)\n",
    "print(\"Fim do programa\")"
   ]
  },
  {
   "cell_type": "code",
   "execution_count": 8,
   "metadata": {},
   "outputs": [
    {
     "name": "stdout",
     "output_type": "stream",
     "text": [
      "1\n",
      "2\n",
      "3\n",
      "4\n",
      "Fim do programa\n"
     ]
    }
   ],
   "source": [
    "# range com início e fim\n",
    "for contador in range(1,5):\n",
    "    print(contador)\n",
    "print(\"Fim do programa\")"
   ]
  },
  {
   "cell_type": "code",
   "execution_count": 10,
   "metadata": {},
   "outputs": [
    {
     "name": "stdout",
     "output_type": "stream",
     "text": [
      "4\n",
      "3\n",
      "2\n",
      "fim do programa\n"
     ]
    }
   ],
   "source": [
    "for contador in range(4,1,-1):\n",
    "    print(contador)\n",
    "print(\"fim do programa\")"
   ]
  },
  {
   "cell_type": "code",
   "execution_count": 11,
   "metadata": {},
   "outputs": [
    {
     "name": "stdout",
     "output_type": "stream",
     "text": [
      "0\n",
      "2\n",
      "4\n",
      "6\n",
      "8\n",
      "10\n",
      "Fim do programa\n"
     ]
    }
   ],
   "source": [
    "# mostrar os pares de 0 até 10\n",
    "for contador in range(0,11,2):\n",
    "    print(contador)\n",
    "print(\"Fim do programa\")"
   ]
  },
  {
   "cell_type": "code",
   "execution_count": null,
   "metadata": {},
   "outputs": [],
   "source": [
    "for contador in range(-1,-4,-1):\n",
    "    print(contador)\n",
    "print(\"Fim do programa\")\n"
   ]
  },
  {
   "cell_type": "markdown",
   "metadata": {},
   "source": [
    "### instruções break e continue"
   ]
  },
  {
   "cell_type": "code",
   "execution_count": 13,
   "metadata": {},
   "outputs": [
    {
     "name": "stdout",
     "output_type": "stream",
     "text": [
      "O ano do seu nascimento foi 1977\n",
      "Fim do programa\n"
     ]
    }
   ],
   "source": [
    "while True:\n",
    "    idade = int(input(\"Digite sua idade (0-Fim): \"))\n",
    "    if idade == 0: break\n",
    "    print(\"O ano do seu nascimento foi\",2024-idade)\n",
    "\n",
    "print(\"Fim do programa\")"
   ]
  },
  {
   "cell_type": "code",
   "execution_count": 14,
   "metadata": {},
   "outputs": [
    {
     "name": "stdout",
     "output_type": "stream",
     "text": [
      "0\n",
      "1\n",
      "2\n",
      "4\n",
      "Fim do programa\n"
     ]
    }
   ],
   "source": [
    "for contador in range(5):\n",
    "    if contador == 3: continue\n",
    "    print(contador)\n",
    "print(\"Fim do programa\")"
   ]
  },
  {
   "cell_type": "markdown",
   "metadata": {},
   "source": [
    "### ramo else nos laços de repetição"
   ]
  },
  {
   "cell_type": "code",
   "execution_count": 17,
   "metadata": {},
   "outputs": [
    {
     "name": "stdout",
     "output_type": "stream",
     "text": [
      "Ano de nascimento: 1974\n",
      "Fim do programa\n"
     ]
    }
   ],
   "source": [
    "idade = -1\n",
    "while idade != 0:\n",
    "    idade = int(input(\"Digite sua idade: \"))\n",
    "    print(\"Ano de nascimento:\",2024-idade)\n",
    "    if idade == 50: break\n",
    "else:\n",
    "    print(\"Passou pelo else\")\n",
    "print(\"Fim do programa\")"
   ]
  },
  {
   "cell_type": "code",
   "execution_count": 19,
   "metadata": {},
   "outputs": [
    {
     "name": "stdout",
     "output_type": "stream",
     "text": [
      "0\n",
      "1\n",
      "2\n",
      "3\n",
      "4\n",
      "Passou pelo else\n",
      "Fim do programa\n"
     ]
    }
   ],
   "source": [
    "for contador in range(5):\n",
    "    print(contador)\n",
    "    #if contador == 3: break\n",
    "else:\n",
    "    print(\"Passou pelo else\")\n",
    "print(\"Fim do programa\")"
   ]
  },
  {
   "cell_type": "code",
   "execution_count": 22,
   "metadata": {},
   "outputs": [
    {
     "name": "stdout",
     "output_type": "stream",
     "text": [
      "else 999\n",
      "fim do programa - contador = 999\n"
     ]
    }
   ],
   "source": [
    "contador = 999\n",
    "for contador in range(5,1):\n",
    "    print(contador)\n",
    "else:\n",
    "    print(\"else\",contador)\n",
    "print(\"fim do programa - contador =\", contador)\n"
   ]
  }
 ],
 "metadata": {
  "kernelspec": {
   "display_name": "Python 3",
   "language": "python",
   "name": "python3"
  },
  "language_info": {
   "codemirror_mode": {
    "name": "ipython",
    "version": 3
   },
   "file_extension": ".py",
   "mimetype": "text/x-python",
   "name": "python",
   "nbconvert_exporter": "python",
   "pygments_lexer": "ipython3",
   "version": "3.12.6"
  }
 },
 "nbformat": 4,
 "nbformat_minor": 2
}
