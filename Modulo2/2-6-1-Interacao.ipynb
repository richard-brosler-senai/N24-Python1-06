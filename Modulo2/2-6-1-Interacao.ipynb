{
 "cells": [
  {
   "cell_type": "markdown",
   "metadata": {},
   "source": [
    "# Interação com Usuário\n",
    "### input\n",
    "Entrada de dados via teclado\n",
    "Comando input()"
   ]
  },
  {
   "cell_type": "code",
   "execution_count": 1,
   "metadata": {},
   "outputs": [
    {
     "name": "stdout",
     "output_type": "stream",
     "text": [
      "Digite seu nome:\n",
      "Olá, \n"
     ]
    }
   ],
   "source": [
    "print(\"Digite seu nome:\")\n",
    "nome = input()\n",
    "print(\"Olá,\",nome)"
   ]
  },
  {
   "cell_type": "code",
   "execution_count": 2,
   "metadata": {},
   "outputs": [
    {
     "name": "stdout",
     "output_type": "stream",
     "text": [
      "Olá, \n"
     ]
    },
    {
     "ename": "ValueError",
     "evalue": "invalid literal for int() with base 10: ''",
     "output_type": "error",
     "traceback": [
      "\u001b[1;31m---------------------------------------------------------------------------\u001b[0m",
      "\u001b[1;31mValueError\u001b[0m                                Traceback (most recent call last)",
      "Cell \u001b[1;32mIn[2], line 4\u001b[0m\n\u001b[0;32m      2\u001b[0m \u001b[38;5;28mprint\u001b[39m(\u001b[38;5;124m\"\u001b[39m\u001b[38;5;124mOlá,\u001b[39m\u001b[38;5;124m\"\u001b[39m,nome)\n\u001b[0;32m      3\u001b[0m \u001b[38;5;66;03m# Convertendo texto para inteiro\u001b[39;00m\n\u001b[1;32m----> 4\u001b[0m idade \u001b[38;5;241m=\u001b[39m \u001b[38;5;28;43mint\u001b[39;49m\u001b[43m(\u001b[49m\u001b[38;5;28;43minput\u001b[39;49m\u001b[43m(\u001b[49m\u001b[38;5;124;43m\"\u001b[39;49m\u001b[38;5;124;43mDigite sua idade: \u001b[39;49m\u001b[38;5;124;43m\"\u001b[39;49m\u001b[43m)\u001b[49m\u001b[43m)\u001b[49m \n\u001b[0;32m      5\u001b[0m ano_nascimento \u001b[38;5;241m=\u001b[39m \u001b[38;5;241m2024\u001b[39m \u001b[38;5;241m-\u001b[39m idade\n\u001b[0;32m      6\u001b[0m \u001b[38;5;28mprint\u001b[39m(\u001b[38;5;124m\"\u001b[39m\u001b[38;5;124mVocê nasceu em\u001b[39m\u001b[38;5;124m\"\u001b[39m,ano_nascimento)\n",
      "\u001b[1;31mValueError\u001b[0m: invalid literal for int() with base 10: ''"
     ]
    }
   ],
   "source": [
    "nome = input(\"Digite seu nome: \")\n",
    "print(\"Olá,\",nome)\n",
    "# Convertendo texto para inteiro\n",
    "idade = int(input(\"Digite sua idade: \")) \n",
    "ano_nascimento = 2024 - idade\n",
    "print(\"Você nasceu em\",ano_nascimento)"
   ]
  },
  {
   "cell_type": "code",
   "execution_count": 6,
   "metadata": {},
   "outputs": [
    {
     "ename": "ValueError",
     "evalue": "could not convert string to float: '50,5'",
     "output_type": "error",
     "traceback": [
      "\u001b[1;31m---------------------------------------------------------------------------\u001b[0m",
      "\u001b[1;31mValueError\u001b[0m                                Traceback (most recent call last)",
      "Cell \u001b[1;32mIn[6], line 2\u001b[0m\n\u001b[0;32m      1\u001b[0m \u001b[38;5;66;03m# Fazendo conta com float\u001b[39;00m\n\u001b[1;32m----> 2\u001b[0m litros \u001b[38;5;241m=\u001b[39m \u001b[38;5;28;43mfloat\u001b[39;49m\u001b[43m(\u001b[49m\u001b[38;5;28;43minput\u001b[39;49m\u001b[43m(\u001b[49m\u001b[38;5;124;43m\"\u001b[39;49m\u001b[38;5;124;43mDigite a quantidade de litros comb: \u001b[39;49m\u001b[38;5;124;43m\"\u001b[39;49m\u001b[43m)\u001b[49m\u001b[43m)\u001b[49m\n\u001b[0;32m      3\u001b[0m galoes \u001b[38;5;241m=\u001b[39m litros \u001b[38;5;241m/\u001b[39m \u001b[38;5;241m3.68\u001b[39m\n\u001b[0;32m      4\u001b[0m \u001b[38;5;28mprint\u001b[39m(\u001b[38;5;124m\"\u001b[39m\u001b[38;5;124mQuantidade de galoes:\u001b[39m\u001b[38;5;124m\"\u001b[39m,galoes)\n",
      "\u001b[1;31mValueError\u001b[0m: could not convert string to float: '50,5'"
     ]
    }
   ],
   "source": [
    "# Fazendo conta com float\n",
    "litros = float(input(\"Digite a quantidade de litros comb: \"))\n",
    "galoes = litros / 3.68\n",
    "print(\"Quantidade de galoes:\",galoes)"
   ]
  },
  {
   "cell_type": "markdown",
   "metadata": {},
   "source": [
    "### Operações com string (textos)\n",
    "#### Concatenação (junção de textos)\n",
    "Para concatenar um texto basta usar o operador +"
   ]
  },
  {
   "cell_type": "code",
   "execution_count": 7,
   "metadata": {},
   "outputs": [
    {
     "name": "stdout",
     "output_type": "stream",
     "text": [
      "Olá Mundo!\n"
     ]
    }
   ],
   "source": [
    "texto = \"Olá\"\n",
    "texto2 = \"Mundo!\"\n",
    "print(texto + \" \" + texto2) # Concatenação"
   ]
  },
  {
   "cell_type": "markdown",
   "metadata": {},
   "source": [
    "#### Replicação de textos\n",
    "Usaremos o operador *"
   ]
  },
  {
   "cell_type": "code",
   "execution_count": 10,
   "metadata": {},
   "outputs": [
    {
     "name": "stdout",
     "output_type": "stream",
     "text": [
      "+----------+\n",
      "|          |\n",
      "|          |\n",
      "|          |\n",
      "|          |\n",
      "|          |\n",
      "+----------+\n"
     ]
    }
   ],
   "source": [
    "print('+' + '-' * 10 + '+')\n",
    "print(('|' + 10 * ' ' + '|\\n') * 5,end='')\n",
    "print('+' + '-' * 10 + '+')"
   ]
  },
  {
   "cell_type": "code",
   "execution_count": 11,
   "metadata": {},
   "outputs": [
    {
     "name": "stdout",
     "output_type": "stream",
     "text": [
      "Hoje é dia 18 de setembro\n"
     ]
    }
   ],
   "source": [
    "print(\"Hoje é dia \" + str(18) + \" de setembro\")"
   ]
  },
  {
   "cell_type": "code",
   "execution_count": 13,
   "metadata": {},
   "outputs": [
    {
     "name": "stdout",
     "output_type": "stream",
     "text": [
      "y = -0.19258202567760344\n"
     ]
    }
   ],
   "source": [
    "x = float(input(\"Digite o valor para x: \"))\n",
    "\n",
    "# Escreva seu código aqui.\n",
    "y = 1 / ( x + 1 / ( x + 1 / ( x + 1 / x )))\n",
    "print(\"y =\", y)\n",
    "\n"
   ]
  }
 ],
 "metadata": {
  "kernelspec": {
   "display_name": "Python 3",
   "language": "python",
   "name": "python3"
  },
  "language_info": {
   "codemirror_mode": {
    "name": "ipython",
    "version": 3
   },
   "file_extension": ".py",
   "mimetype": "text/x-python",
   "name": "python",
   "nbconvert_exporter": "python",
   "pygments_lexer": "ipython3",
   "version": "3.12.6"
  }
 },
 "nbformat": 4,
 "nbformat_minor": 2
}
