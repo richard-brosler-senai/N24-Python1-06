{
 "cells": [
  {
   "cell_type": "markdown",
   "metadata": {},
   "source": [
    "# Operadores Python\n",
    "### Exponenciação\n",
    "Para utilizar a exponenciação utilizaremos o símbolo\n",
    "**\n",
    "2 ** 3 = 8, por exemplo (2 elevado a 3ª potência)"
   ]
  },
  {
   "cell_type": "code",
   "execution_count": 1,
   "metadata": {},
   "outputs": [
    {
     "name": "stdout",
     "output_type": "stream",
     "text": [
      "8\n",
      "8.0\n",
      "8.0\n",
      "8.0\n"
     ]
    }
   ],
   "source": [
    "print(2 ** 3)\n",
    "print(2. ** 3)\n",
    "print(2 ** 3.)\n",
    "print(2. ** 3.)"
   ]
  },
  {
   "cell_type": "markdown",
   "metadata": {},
   "source": [
    "### Multiplicação\n",
    "Representado pelo caracter *"
   ]
  },
  {
   "cell_type": "code",
   "execution_count": 2,
   "metadata": {},
   "outputs": [
    {
     "name": "stdout",
     "output_type": "stream",
     "text": [
      "6\n",
      "6.0\n",
      "6.0\n",
      "6.0\n"
     ]
    }
   ],
   "source": [
    "print(2 * 3)\n",
    "print(2. * 3)\n",
    "print(2 * 3.)\n",
    "print(2. * 3.)\n"
   ]
  },
  {
   "cell_type": "markdown",
   "metadata": {},
   "source": [
    "### Divisão\n",
    "Representada pelo caracter /"
   ]
  },
  {
   "cell_type": "code",
   "execution_count": 3,
   "metadata": {},
   "outputs": [
    {
     "name": "stdout",
     "output_type": "stream",
     "text": [
      "2.0\n",
      "0.5\n",
      "0.5\n",
      "0.5\n"
     ]
    }
   ],
   "source": [
    "print(4 / 2)\n",
    "print(1. / 2)\n",
    "print(1 / 2.)\n",
    "print(1. / 2.)"
   ]
  },
  {
   "cell_type": "markdown",
   "metadata": {},
   "source": [
    "### Divisão inteira com arredondamento para baixo\n",
    "Representada por //.\n",
    "Resultará em uma divisão sem a parte fracionária\n",
    "com arredondamento para baixo."
   ]
  },
  {
   "cell_type": "code",
   "execution_count": 4,
   "metadata": {},
   "outputs": [
    {
     "name": "stdout",
     "output_type": "stream",
     "text": [
      "1\n",
      "1.0\n",
      "1.0\n",
      "1.0\n"
     ]
    }
   ],
   "source": [
    "print(3 // 2)\n",
    "print(3. // 2)\n",
    "print(3 // 2.)\n",
    "print(3. // 2.)"
   ]
  },
  {
   "cell_type": "code",
   "execution_count": 5,
   "metadata": {},
   "outputs": [
    {
     "name": "stdout",
     "output_type": "stream",
     "text": [
      "-1\n",
      "-2\n",
      "-2.0\n",
      "-2.0\n",
      "-2.0\n"
     ]
    }
   ],
   "source": [
    "# Operações com valores negativos\n",
    "print(-1 // 2)\n",
    "print(-3 // 2)\n",
    "print(-3. // 2)\n",
    "print(-3 // 2.)\n",
    "print(-3. // 2.)"
   ]
  },
  {
   "cell_type": "markdown",
   "metadata": {},
   "source": [
    "### Resto da divisão - Módulo\n",
    "Representado pelo caracter %\n",
    "3 % 2 = 1 "
   ]
  },
  {
   "cell_type": "code",
   "execution_count": 6,
   "metadata": {},
   "outputs": [
    {
     "name": "stdout",
     "output_type": "stream",
     "text": [
      "1\n",
      "1.0\n",
      "1.0\n",
      "1.0\n",
      "3.0\n"
     ]
    }
   ],
   "source": [
    "print(3 % 2)\n",
    "print(3. % 2)\n",
    "print(3 % 2.)\n",
    "print(3. % 2.)\n",
    "print(12 % 4.5)"
   ]
  },
  {
   "cell_type": "markdown",
   "metadata": {},
   "source": [
    "### Prioridades de Operadores\n",
    "1. **\n",
    "2. Unários (+, -) => -2\n",
    "3. *, /, //, %\n",
    "4. +, - \n",
    "\n",
    "Precedência da esquerda para direita em operadores\n",
    "com igual precedência com excessão à exponenciação."
   ]
  },
  {
   "cell_type": "code",
   "execution_count": 7,
   "metadata": {},
   "outputs": [
    {
     "name": "stdout",
     "output_type": "stream",
     "text": [
      "8.0\n",
      "512\n",
      "5.0\n"
     ]
    }
   ],
   "source": [
    "print(2 * 3 / 2 + 5)\n",
    "print( 2 ** 3 ** 2) # Precedência é da direita para esquerda\n",
    "print(25 ** (1/2)) # Raiz quadrada"
   ]
  }
 ],
 "metadata": {
  "kernelspec": {
   "display_name": "Python 3",
   "language": "python",
   "name": "python3"
  },
  "language_info": {
   "codemirror_mode": {
    "name": "ipython",
    "version": 3
   },
   "file_extension": ".py",
   "mimetype": "text/x-python",
   "name": "python",
   "nbconvert_exporter": "python",
   "pygments_lexer": "ipython3",
   "version": "3.12.6"
  }
 },
 "nbformat": 4,
 "nbformat_minor": 2
}
