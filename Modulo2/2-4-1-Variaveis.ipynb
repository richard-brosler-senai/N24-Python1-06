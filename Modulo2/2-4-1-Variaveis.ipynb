{
 "cells": [
  {
   "cell_type": "markdown",
   "metadata": {},
   "source": [
    "# Variáveis\n"
   ]
  },
  {
   "cell_type": "code",
   "execution_count": 1,
   "metadata": {},
   "outputs": [
    {
     "name": "stdout",
     "output_type": "stream",
     "text": [
      "40\n",
      "Richard\n"
     ]
    }
   ],
   "source": [
    "idade = 40\n",
    "print(idade)\n",
    "idade = \"Richard\"\n",
    "print(idade)"
   ]
  },
  {
   "cell_type": "markdown",
   "metadata": {},
   "source": [
    "### Regras para criar uma variável\n",
    "1. O nome da variável deve ser iniciado por uma letra ou _\n",
    "2. O nome não pode conter caracter especial, somente letras, \n",
    "números ou _\n",
    "3. O nome não pode ser uma palavra reservada do python\n"
   ]
  },
  {
   "cell_type": "code",
   "execution_count": 2,
   "metadata": {},
   "outputs": [],
   "source": [
    "true = 10\n",
    "# True = 10\n",
    "a = 5\n",
    "nome_pessoa = \"Richard\"\n",
    "idade = 15"
   ]
  },
  {
   "cell_type": "code",
   "execution_count": 3,
   "metadata": {},
   "outputs": [
    {
     "name": "stdout",
     "output_type": "stream",
     "text": [
      "60\n"
     ]
    }
   ],
   "source": [
    "valor = 50\n",
    "valor = valor + 10 # Acumulador\n",
    "print(valor)"
   ]
  },
  {
   "cell_type": "code",
   "execution_count": 4,
   "metadata": {},
   "outputs": [
    {
     "name": "stdout",
     "output_type": "stream",
     "text": [
      "18.027756377319946\n"
     ]
    },
    {
     "ename": "NameError",
     "evalue": "name 'Hip' is not defined",
     "output_type": "error",
     "traceback": [
      "\u001b[1;31m---------------------------------------------------------------------------\u001b[0m",
      "\u001b[1;31mNameError\u001b[0m                                 Traceback (most recent call last)",
      "Cell \u001b[1;32mIn[4], line 5\u001b[0m\n\u001b[0;32m      3\u001b[0m hip \u001b[38;5;241m=\u001b[39m (cat_a \u001b[38;5;241m*\u001b[39m\u001b[38;5;241m*\u001b[39m \u001b[38;5;241m2\u001b[39m \u001b[38;5;241m+\u001b[39m cat_b \u001b[38;5;241m*\u001b[39m\u001b[38;5;241m*\u001b[39m \u001b[38;5;241m2\u001b[39m) \u001b[38;5;241m*\u001b[39m\u001b[38;5;241m*\u001b[39m \u001b[38;5;241m0.5\u001b[39m \u001b[38;5;66;03m# Calculando Hipotenusa\u001b[39;00m\n\u001b[0;32m      4\u001b[0m \u001b[38;5;28mprint\u001b[39m(hip)\n\u001b[1;32m----> 5\u001b[0m \u001b[38;5;28mprint\u001b[39m(\u001b[43mHip\u001b[49m) \u001b[38;5;66;03m# Erro de variavel não existe\u001b[39;00m\n",
      "\u001b[1;31mNameError\u001b[0m: name 'Hip' is not defined"
     ]
    }
   ],
   "source": [
    "cat_a = 10\n",
    "cat_b = 15\n",
    "hip = (cat_a ** 2 + cat_b ** 2) ** 0.5 # Calculando Hipotenusa\n",
    "print(hip)\n",
    "print(Hip) # Erro de variavel não existe"
   ]
  },
  {
   "cell_type": "markdown",
   "metadata": {},
   "source": [
    "### Operadores de Atalho (contas)\n"
   ]
  },
  {
   "cell_type": "code",
   "execution_count": 11,
   "metadata": {},
   "outputs": [
    {
     "name": "stdout",
     "output_type": "stream",
     "text": [
      "23.0\n",
      "23.0\n",
      "\n",
      "Texto com\n",
      "mais de \n",
      "uma linha \n",
      "\n"
     ]
    }
   ],
   "source": [
    "variavel = 2\n",
    "variavel = variavel * ( 3 / 2 + 10 )\n",
    "print(variavel)\n",
    "#####\n",
    "# teste de comentário\n",
    "####\n",
    "\"\"\"\n",
    "Teste de comentário usando como \n",
    "se fosse string\n",
    "\"\"\"\n",
    "variavel = 2\n",
    "variavel *=  3 / 2 + 10\n",
    "print(variavel)\n",
    "texto = \"\"\"\n",
    "Texto com\n",
    "mais de \n",
    "uma linha \n",
    "\"\"\"\n",
    "print(texto)\n"
   ]
  }
 ],
 "metadata": {
  "kernelspec": {
   "display_name": "Python 3",
   "language": "python",
   "name": "python3"
  },
  "language_info": {
   "codemirror_mode": {
    "name": "ipython",
    "version": 3
   },
   "file_extension": ".py",
   "mimetype": "text/x-python",
   "name": "python",
   "nbconvert_exporter": "python",
   "pygments_lexer": "ipython3",
   "version": "3.12.6"
  }
 },
 "nbformat": 4,
 "nbformat_minor": 2
}
